{
 "cells": [
  {
   "cell_type": "code",
   "execution_count": 4,
   "metadata": {},
   "outputs": [
    {
     "name": "stdout",
     "output_type": "stream",
     "text": [
      "are you hungryno\n",
      "are you thirstyyes\n",
      "drink water\n"
     ]
    }
   ],
   "source": [
    "hungry=input(\"are you hungry\")\n",
    "if hungry==\"yes\":\n",
    "    print(\"eat something\")\n",
    "    print(\"hello world\")\n",
    "    print(\"eat everything\")\n",
    "else:\n",
    "    thirsty=input(\"are you thirsty\")\n",
    "    if(thirsty==\"yes\"):\n",
    "        print(\"drink water\")\n",
    "        print(\"or drink juice\")\n",
    "    \n",
    "    "
   ]
  },
  {
   "cell_type": "code",
   "execution_count": null,
   "metadata": {
    "collapsed": true
   },
   "outputs": [],
   "source": []
  }
 ],
 "metadata": {
  "kernelspec": {
   "display_name": "Python 3",
   "language": "python",
   "name": "python3"
  },
  "language_info": {
   "codemirror_mode": {
    "name": "ipython",
    "version": 3
   },
   "file_extension": ".py",
   "mimetype": "text/x-python",
   "name": "python",
   "nbconvert_exporter": "python",
   "pygments_lexer": "ipython3",
   "version": "3.6.3"
  }
 },
 "nbformat": 4,
 "nbformat_minor": 2
}
